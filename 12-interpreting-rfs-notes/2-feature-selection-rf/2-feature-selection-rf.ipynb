{
 "cells": [
  {
   "cell_type": "markdown",
   "metadata": {},
   "source": [
    "# Feature Selection"
   ]
  },
  {
   "cell_type": "markdown",
   "metadata": {},
   "source": [
    "### Introduction"
   ]
  },
  {
   "cell_type": "markdown",
   "metadata": {},
   "source": [
    "### Loading our data"
   ]
  },
  {
   "cell_type": "code",
   "execution_count": 1,
   "metadata": {},
   "outputs": [],
   "source": [
    "import pandas as pd\n",
    "df_train = pd.read_feather('./bnb_train.feather')\n",
    "df_X_train = df_train.drop(columns = ['price'])\n",
    "y_train = df_train.price\n",
    "\n",
    "df_val = pd.read_feather('./bnb_val.feather')\n",
    "df_X_val = df_val.drop(columns = ['price'])\n",
    "y_val = df_val.price"
   ]
  },
  {
   "cell_type": "markdown",
   "metadata": {},
   "source": [
    "> Then we train our model."
   ]
  },
  {
   "cell_type": "code",
   "execution_count": 2,
   "metadata": {},
   "outputs": [
    {
     "data": {
      "text/plain": [
       "0.7597783476979612"
      ]
     },
     "execution_count": 2,
     "metadata": {},
     "output_type": "execute_result"
    }
   ],
   "source": [
    "from sklearn.ensemble import RandomForestRegressor\n",
    "rfr = RandomForestRegressor(n_estimators=40, max_features='log2')\n",
    "rfr.fit(df_X_train, y_train)\n",
    "rfr.score(df_X_val, y_val)"
   ]
  },
  {
   "cell_type": "markdown",
   "metadata": {},
   "source": [
    "### Feature Selection"
   ]
  },
  {
   "cell_type": "code",
   "execution_count": 3,
   "metadata": {},
   "outputs": [],
   "source": [
    "from eli5.sklearn import PermutationImportance\n",
    "perm = PermutationImportance(rfr).fit(df_X_val, y_val)"
   ]
  },
  {
   "cell_type": "code",
   "execution_count": 14,
   "metadata": {},
   "outputs": [
    {
     "data": {
      "text/html": [
       "<div>\n",
       "<style scoped>\n",
       "    .dataframe tbody tr th:only-of-type {\n",
       "        vertical-align: middle;\n",
       "    }\n",
       "\n",
       "    .dataframe tbody tr th {\n",
       "        vertical-align: top;\n",
       "    }\n",
       "\n",
       "    .dataframe thead th {\n",
       "        text-align: right;\n",
       "    }\n",
       "</style>\n",
       "<table border=\"1\" class=\"dataframe\">\n",
       "  <thead>\n",
       "    <tr style=\"text-align: right;\">\n",
       "      <th></th>\n",
       "      <th>feature</th>\n",
       "      <th>weight</th>\n",
       "      <th>std</th>\n",
       "    </tr>\n",
       "  </thead>\n",
       "  <tbody>\n",
       "    <tr>\n",
       "      <th>0</th>\n",
       "      <td>calculated_host_listings_count</td>\n",
       "      <td>0.083433</td>\n",
       "      <td>0.001301</td>\n",
       "    </tr>\n",
       "    <tr>\n",
       "      <th>1</th>\n",
       "      <td>host_listings_count</td>\n",
       "      <td>0.078769</td>\n",
       "      <td>0.000443</td>\n",
       "    </tr>\n",
       "    <tr>\n",
       "      <th>2</th>\n",
       "      <td>availability_60</td>\n",
       "      <td>0.077384</td>\n",
       "      <td>0.004574</td>\n",
       "    </tr>\n",
       "    <tr>\n",
       "      <th>3</th>\n",
       "      <td>summary_is_na</td>\n",
       "      <td>0.064149</td>\n",
       "      <td>0.008140</td>\n",
       "    </tr>\n",
       "    <tr>\n",
       "      <th>4</th>\n",
       "      <td>host_sinceYear</td>\n",
       "      <td>0.052009</td>\n",
       "      <td>0.006225</td>\n",
       "    </tr>\n",
       "    <tr>\n",
       "      <th>5</th>\n",
       "      <td>host_total_listings_count</td>\n",
       "      <td>0.042911</td>\n",
       "      <td>0.001421</td>\n",
       "    </tr>\n",
       "    <tr>\n",
       "      <th>6</th>\n",
       "      <td>host_sinceElapsed</td>\n",
       "      <td>0.040649</td>\n",
       "      <td>0.004633</td>\n",
       "    </tr>\n",
       "    <tr>\n",
       "      <th>7</th>\n",
       "      <td>property_type_other</td>\n",
       "      <td>0.038506</td>\n",
       "      <td>0.000565</td>\n",
       "    </tr>\n",
       "    <tr>\n",
       "      <th>8</th>\n",
       "      <td>index</td>\n",
       "      <td>0.037237</td>\n",
       "      <td>0.004978</td>\n",
       "    </tr>\n",
       "    <tr>\n",
       "      <th>9</th>\n",
       "      <td>host_sinceMonth_5.0</td>\n",
       "      <td>0.036698</td>\n",
       "      <td>0.005514</td>\n",
       "    </tr>\n",
       "    <tr>\n",
       "      <th>10</th>\n",
       "      <td>host_neighbourhood_is_na</td>\n",
       "      <td>0.034648</td>\n",
       "      <td>0.006151</td>\n",
       "    </tr>\n",
       "    <tr>\n",
       "      <th>11</th>\n",
       "      <td>neighbourhood_Wilmersdorf</td>\n",
       "      <td>0.032621</td>\n",
       "      <td>0.004098</td>\n",
       "    </tr>\n",
       "    <tr>\n",
       "      <th>12</th>\n",
       "      <td>availability_30</td>\n",
       "      <td>0.030946</td>\n",
       "      <td>0.003139</td>\n",
       "    </tr>\n",
       "    <tr>\n",
       "      <th>13</th>\n",
       "      <td>maximum_nights</td>\n",
       "      <td>0.030388</td>\n",
       "      <td>0.003675</td>\n",
       "    </tr>\n",
       "    <tr>\n",
       "      <th>14</th>\n",
       "      <td>cleaning_fee_is_na</td>\n",
       "      <td>0.030211</td>\n",
       "      <td>0.004417</td>\n",
       "    </tr>\n",
       "    <tr>\n",
       "      <th>15</th>\n",
       "      <td>host_sinceDay</td>\n",
       "      <td>0.029936</td>\n",
       "      <td>0.006887</td>\n",
       "    </tr>\n",
       "    <tr>\n",
       "      <th>16</th>\n",
       "      <td>longitude</td>\n",
       "      <td>0.029541</td>\n",
       "      <td>0.004865</td>\n",
       "    </tr>\n",
       "    <tr>\n",
       "      <th>17</th>\n",
       "      <td>is_location_exact</td>\n",
       "      <td>0.029461</td>\n",
       "      <td>0.012908</td>\n",
       "    </tr>\n",
       "    <tr>\n",
       "      <th>18</th>\n",
       "      <td>availability_90</td>\n",
       "      <td>0.028735</td>\n",
       "      <td>0.001130</td>\n",
       "    </tr>\n",
       "    <tr>\n",
       "      <th>19</th>\n",
       "      <td>minimum_nights</td>\n",
       "      <td>0.028575</td>\n",
       "      <td>0.003866</td>\n",
       "    </tr>\n",
       "  </tbody>\n",
       "</table>\n",
       "</div>"
      ],
      "text/plain": [
       "                           feature    weight       std\n",
       "0   calculated_host_listings_count  0.083433  0.001301\n",
       "1              host_listings_count  0.078769  0.000443\n",
       "2                  availability_60  0.077384  0.004574\n",
       "3                    summary_is_na  0.064149  0.008140\n",
       "4                   host_sinceYear  0.052009  0.006225\n",
       "5        host_total_listings_count  0.042911  0.001421\n",
       "6                host_sinceElapsed  0.040649  0.004633\n",
       "7              property_type_other  0.038506  0.000565\n",
       "8                            index  0.037237  0.004978\n",
       "9              host_sinceMonth_5.0  0.036698  0.005514\n",
       "10        host_neighbourhood_is_na  0.034648  0.006151\n",
       "11       neighbourhood_Wilmersdorf  0.032621  0.004098\n",
       "12                 availability_30  0.030946  0.003139\n",
       "13                  maximum_nights  0.030388  0.003675\n",
       "14              cleaning_fee_is_na  0.030211  0.004417\n",
       "15                   host_sinceDay  0.029936  0.006887\n",
       "16                       longitude  0.029541  0.004865\n",
       "17               is_location_exact  0.029461  0.012908\n",
       "18                 availability_90  0.028735  0.001130\n",
       "19                  minimum_nights  0.028575  0.003866"
      ]
     },
     "execution_count": 14,
     "metadata": {},
     "output_type": "execute_result"
    }
   ],
   "source": [
    "import eli5\n",
    "eli5.explain_weights_df(perm, feature_names = df_X_val.columns.to_list())[:20]"
   ]
  },
  {
   "cell_type": "markdown",
   "metadata": {},
   "source": [
    "* Select from model "
   ]
  },
  {
   "cell_type": "code",
   "execution_count": 19,
   "metadata": {},
   "outputs": [
    {
     "data": {
      "text/plain": [
       "(4736, 41)"
      ]
     },
     "execution_count": 19,
     "metadata": {},
     "output_type": "execute_result"
    }
   ],
   "source": [
    "df_X_val.iloc[:, first_selection.get_support()].shape"
   ]
  },
  {
   "cell_type": "code",
   "execution_count": 15,
   "metadata": {},
   "outputs": [],
   "source": [
    "from sklearn.feature_selection import SelectFromModel\n",
    "first_selection = SelectFromModel(perm, threshold=0.01, prefit=True)\n",
    "# first_selection.fit()\n",
    "X_val_first_select = first_selection.transform(df_X_val)\n",
    "X_train_first_select = first_selection.transform(df_X_train)"
   ]
  },
  {
   "cell_type": "code",
   "execution_count": 16,
   "metadata": {},
   "outputs": [
    {
     "data": {
      "text/plain": [
       "(4736, 41)"
      ]
     },
     "execution_count": 16,
     "metadata": {},
     "output_type": "execute_result"
    }
   ],
   "source": [
    "X_val_first_select.shape"
   ]
  },
  {
   "cell_type": "code",
   "execution_count": 20,
   "metadata": {},
   "outputs": [
    {
     "data": {
      "text/plain": [
       "0.8201422741753963"
      ]
     },
     "execution_count": 20,
     "metadata": {},
     "output_type": "execute_result"
    }
   ],
   "source": [
    "rfr_first_select = RandomForestRegressor(n_estimators=40, max_features='log2')\n",
    "rfr_first_select.fit(X_train_first_select, y_train)\n",
    "rfr_first_select.score(X_val_first_select, y_val)"
   ]
  },
  {
   "cell_type": "markdown",
   "metadata": {},
   "source": [
    "* get support "
   ]
  },
  {
   "cell_type": "code",
   "execution_count": 11,
   "metadata": {},
   "outputs": [
    {
     "data": {
      "text/plain": [
       "array([ True,  True,  True,  True,  True,  True,  True,  True, False,\n",
       "       False])"
      ]
     },
     "execution_count": 11,
     "metadata": {},
     "output_type": "execute_result"
    }
   ],
   "source": [
    "first_selection.get_support()[:10]"
   ]
  },
  {
   "cell_type": "code",
   "execution_count": 23,
   "metadata": {},
   "outputs": [
    {
     "data": {
      "text/plain": [
       "(41,)"
      ]
     },
     "execution_count": 23,
     "metadata": {},
     "output_type": "execute_result"
    }
   ],
   "source": [
    "first_select_cols = df_X_train.columns[first_selection.get_support()]\n",
    "first_select_cols.shape"
   ]
  },
  {
   "cell_type": "code",
   "execution_count": null,
   "metadata": {},
   "outputs": [],
   "source": [
    "first_select_cols.shape"
   ]
  },
  {
   "cell_type": "markdown",
   "metadata": {},
   "source": [
    "### Round two"
   ]
  },
  {
   "cell_type": "code",
   "execution_count": 24,
   "metadata": {},
   "outputs": [],
   "source": [
    "from eli5.sklearn import PermutationImportance\n",
    "second_pmi = PermutationImportance(rfr_first_select).fit(X_val_first_select, y_val)"
   ]
  },
  {
   "cell_type": "markdown",
   "metadata": {},
   "source": [
    "* Notice that the weights change "
   ]
  },
  {
   "cell_type": "code",
   "execution_count": 25,
   "metadata": {},
   "outputs": [
    {
     "data": {
      "text/html": [
       "<div>\n",
       "<style scoped>\n",
       "    .dataframe tbody tr th:only-of-type {\n",
       "        vertical-align: middle;\n",
       "    }\n",
       "\n",
       "    .dataframe tbody tr th {\n",
       "        vertical-align: top;\n",
       "    }\n",
       "\n",
       "    .dataframe thead th {\n",
       "        text-align: right;\n",
       "    }\n",
       "</style>\n",
       "<table border=\"1\" class=\"dataframe\">\n",
       "  <thead>\n",
       "    <tr style=\"text-align: right;\">\n",
       "      <th></th>\n",
       "      <th>feature</th>\n",
       "      <th>weight</th>\n",
       "      <th>std</th>\n",
       "    </tr>\n",
       "  </thead>\n",
       "  <tbody>\n",
       "    <tr>\n",
       "      <th>0</th>\n",
       "      <td>host_total_listings_count</td>\n",
       "      <td>0.102340</td>\n",
       "      <td>0.004797</td>\n",
       "    </tr>\n",
       "    <tr>\n",
       "      <th>1</th>\n",
       "      <td>index</td>\n",
       "      <td>0.095265</td>\n",
       "      <td>0.001258</td>\n",
       "    </tr>\n",
       "    <tr>\n",
       "      <th>2</th>\n",
       "      <td>calculated_host_listings_count</td>\n",
       "      <td>0.093673</td>\n",
       "      <td>0.001728</td>\n",
       "    </tr>\n",
       "    <tr>\n",
       "      <th>3</th>\n",
       "      <td>id</td>\n",
       "      <td>0.086402</td>\n",
       "      <td>0.000944</td>\n",
       "    </tr>\n",
       "    <tr>\n",
       "      <th>4</th>\n",
       "      <td>availability_365</td>\n",
       "      <td>0.066779</td>\n",
       "      <td>0.001990</td>\n",
       "    </tr>\n",
       "  </tbody>\n",
       "</table>\n",
       "</div>"
      ],
      "text/plain": [
       "                          feature    weight       std\n",
       "0       host_total_listings_count  0.102340  0.004797\n",
       "1                           index  0.095265  0.001258\n",
       "2  calculated_host_listings_count  0.093673  0.001728\n",
       "3                              id  0.086402  0.000944\n",
       "4                availability_365  0.066779  0.001990"
      ]
     },
     "execution_count": 25,
     "metadata": {},
     "output_type": "execute_result"
    }
   ],
   "source": [
    "eli5.explain_weights_df(second_pmi, top=5, feature_names = first_select_cols.to_list())"
   ]
  },
  {
   "cell_type": "code",
   "execution_count": null,
   "metadata": {},
   "outputs": [],
   "source": [
    "eli5.explain_weights_df(second_pmi, feature_names = first_select_cols.to_list()).tail(5)"
   ]
  },
  {
   "cell_type": "markdown",
   "metadata": {},
   "source": [
    "So let's select from our model again."
   ]
  },
  {
   "cell_type": "code",
   "execution_count": 26,
   "metadata": {},
   "outputs": [
    {
     "data": {
      "text/plain": [
       "0.8302590772399254"
      ]
     },
     "execution_count": 26,
     "metadata": {},
     "output_type": "execute_result"
    }
   ],
   "source": [
    "second_select = SelectFromModel(second_pmi, threshold=0.01, prefit=True)\n",
    "X_train_second_select = second_select.transform(X_train_first_select)\n",
    "X_val_second_select = second_select.transform(X_val_first_select)\n",
    "\n",
    "rfr_second_select = RandomForestRegressor(n_estimators=40, max_features='log2')\n",
    "rfr_second_select.fit(X_train_second_select, y_train)\n",
    "rfr_second_select.score(X_val_second_select, y_val)"
   ]
  },
  {
   "cell_type": "code",
   "execution_count": 27,
   "metadata": {},
   "outputs": [
    {
     "data": {
      "text/plain": [
       "(4736, 24)"
      ]
     },
     "execution_count": 27,
     "metadata": {},
     "output_type": "execute_result"
    }
   ],
   "source": [
    "X_val_second_select.shape"
   ]
  },
  {
   "cell_type": "markdown",
   "metadata": {},
   "source": [
    "And again."
   ]
  },
  {
   "cell_type": "code",
   "execution_count": 28,
   "metadata": {},
   "outputs": [
    {
     "data": {
      "text/plain": [
       "0.8050601208426202"
      ]
     },
     "execution_count": 28,
     "metadata": {},
     "output_type": "execute_result"
    }
   ],
   "source": [
    "third_pmi = PermutationImportance(rfr_second_select).fit(X_val_second_select, y_val)\n",
    "third_select = SelectFromModel(third_pmi, threshold=0.01, prefit=True)\n",
    "\n",
    "X_train_third_select = third_select.transform(X_train_second_select)\n",
    "X_val_third_select = third_select.transform(X_val_second_select)\n",
    "\n",
    "rfr = RandomForestRegressor(n_estimators=40, max_features='log2')\n",
    "rfr.fit(X_train_third_select, y_train)\n",
    "rfr.score(X_val_third_select, y_val)"
   ]
  },
  {
   "cell_type": "code",
   "execution_count": 29,
   "metadata": {},
   "outputs": [
    {
     "data": {
      "text/plain": [
       "(20,)"
      ]
     },
     "execution_count": 29,
     "metadata": {},
     "output_type": "execute_result"
    }
   ],
   "source": [
    "second_select_cols = first_select_cols[second_select.get_support()]\n",
    "third_select_cols = second_select_cols[third_select.get_support()]\n",
    "third_select_cols.shape"
   ]
  },
  {
   "cell_type": "code",
   "execution_count": 31,
   "metadata": {},
   "outputs": [
    {
     "data": {
      "text/html": [
       "<div>\n",
       "<style scoped>\n",
       "    .dataframe tbody tr th:only-of-type {\n",
       "        vertical-align: middle;\n",
       "    }\n",
       "\n",
       "    .dataframe tbody tr th {\n",
       "        vertical-align: top;\n",
       "    }\n",
       "\n",
       "    .dataframe thead th {\n",
       "        text-align: right;\n",
       "    }\n",
       "</style>\n",
       "<table border=\"1\" class=\"dataframe\">\n",
       "  <thead>\n",
       "    <tr style=\"text-align: right;\">\n",
       "      <th></th>\n",
       "      <th>feature</th>\n",
       "      <th>weight</th>\n",
       "      <th>std</th>\n",
       "    </tr>\n",
       "  </thead>\n",
       "  <tbody>\n",
       "    <tr>\n",
       "      <th>0</th>\n",
       "      <td>index</td>\n",
       "      <td>0.135917</td>\n",
       "      <td>0.004076</td>\n",
       "    </tr>\n",
       "    <tr>\n",
       "      <th>1</th>\n",
       "      <td>host_id</td>\n",
       "      <td>0.126213</td>\n",
       "      <td>0.004824</td>\n",
       "    </tr>\n",
       "    <tr>\n",
       "      <th>2</th>\n",
       "      <td>availability_365</td>\n",
       "      <td>0.113033</td>\n",
       "      <td>0.006911</td>\n",
       "    </tr>\n",
       "    <tr>\n",
       "      <th>3</th>\n",
       "      <td>calculated_host_listings_count</td>\n",
       "      <td>0.111507</td>\n",
       "      <td>0.006655</td>\n",
       "    </tr>\n",
       "    <tr>\n",
       "      <th>4</th>\n",
       "      <td>host_sinceElapsed</td>\n",
       "      <td>0.106859</td>\n",
       "      <td>0.005292</td>\n",
       "    </tr>\n",
       "    <tr>\n",
       "      <th>5</th>\n",
       "      <td>id</td>\n",
       "      <td>0.093245</td>\n",
       "      <td>0.000795</td>\n",
       "    </tr>\n",
       "    <tr>\n",
       "      <th>6</th>\n",
       "      <td>summary_is_na</td>\n",
       "      <td>0.089774</td>\n",
       "      <td>0.009151</td>\n",
       "    </tr>\n",
       "    <tr>\n",
       "      <th>7</th>\n",
       "      <td>host_verifications_['email', 'phone']</td>\n",
       "      <td>0.083766</td>\n",
       "      <td>0.008828</td>\n",
       "    </tr>\n",
       "    <tr>\n",
       "      <th>8</th>\n",
       "      <td>license_is_na</td>\n",
       "      <td>0.078529</td>\n",
       "      <td>0.003952</td>\n",
       "    </tr>\n",
       "    <tr>\n",
       "      <th>9</th>\n",
       "      <td>host_listings_count</td>\n",
       "      <td>0.068010</td>\n",
       "      <td>0.003992</td>\n",
       "    </tr>\n",
       "    <tr>\n",
       "      <th>10</th>\n",
       "      <td>property_type_other</td>\n",
       "      <td>0.063498</td>\n",
       "      <td>0.010432</td>\n",
       "    </tr>\n",
       "    <tr>\n",
       "      <th>11</th>\n",
       "      <td>host_total_listings_count</td>\n",
       "      <td>0.059731</td>\n",
       "      <td>0.003109</td>\n",
       "    </tr>\n",
       "    <tr>\n",
       "      <th>12</th>\n",
       "      <td>availability_90</td>\n",
       "      <td>0.046443</td>\n",
       "      <td>0.003383</td>\n",
       "    </tr>\n",
       "    <tr>\n",
       "      <th>13</th>\n",
       "      <td>availability_60</td>\n",
       "      <td>0.031357</td>\n",
       "      <td>0.002076</td>\n",
       "    </tr>\n",
       "    <tr>\n",
       "      <th>14</th>\n",
       "      <td>neighbourhood_Wilmersdorf</td>\n",
       "      <td>0.029227</td>\n",
       "      <td>0.000620</td>\n",
       "    </tr>\n",
       "    <tr>\n",
       "      <th>15</th>\n",
       "      <td>host_neighbourhood_is_na</td>\n",
       "      <td>0.025849</td>\n",
       "      <td>0.007909</td>\n",
       "    </tr>\n",
       "    <tr>\n",
       "      <th>16</th>\n",
       "      <td>room_type_Private room</td>\n",
       "      <td>0.023623</td>\n",
       "      <td>0.004519</td>\n",
       "    </tr>\n",
       "    <tr>\n",
       "      <th>17</th>\n",
       "      <td>city_is_berlin</td>\n",
       "      <td>0.021389</td>\n",
       "      <td>0.001330</td>\n",
       "    </tr>\n",
       "    <tr>\n",
       "      <th>18</th>\n",
       "      <td>longitude</td>\n",
       "      <td>0.018073</td>\n",
       "      <td>0.002089</td>\n",
       "    </tr>\n",
       "    <tr>\n",
       "      <th>19</th>\n",
       "      <td>host_response_rate</td>\n",
       "      <td>0.013082</td>\n",
       "      <td>0.001373</td>\n",
       "    </tr>\n",
       "    <tr>\n",
       "      <th>20</th>\n",
       "      <td>host_sinceMonth_5.0</td>\n",
       "      <td>0.008497</td>\n",
       "      <td>0.000119</td>\n",
       "    </tr>\n",
       "    <tr>\n",
       "      <th>21</th>\n",
       "      <td>guests_included</td>\n",
       "      <td>0.007029</td>\n",
       "      <td>0.000736</td>\n",
       "    </tr>\n",
       "    <tr>\n",
       "      <th>22</th>\n",
       "      <td>host_response_time_other</td>\n",
       "      <td>0.002043</td>\n",
       "      <td>0.002918</td>\n",
       "    </tr>\n",
       "    <tr>\n",
       "      <th>23</th>\n",
       "      <td>host_response_time_within an hour</td>\n",
       "      <td>-0.000361</td>\n",
       "      <td>0.000180</td>\n",
       "    </tr>\n",
       "  </tbody>\n",
       "</table>\n",
       "</div>"
      ],
      "text/plain": [
       "                                  feature    weight       std\n",
       "0                                   index  0.135917  0.004076\n",
       "1                                 host_id  0.126213  0.004824\n",
       "2                        availability_365  0.113033  0.006911\n",
       "3          calculated_host_listings_count  0.111507  0.006655\n",
       "4                       host_sinceElapsed  0.106859  0.005292\n",
       "5                                      id  0.093245  0.000795\n",
       "6                           summary_is_na  0.089774  0.009151\n",
       "7   host_verifications_['email', 'phone']  0.083766  0.008828\n",
       "8                           license_is_na  0.078529  0.003952\n",
       "9                     host_listings_count  0.068010  0.003992\n",
       "10                    property_type_other  0.063498  0.010432\n",
       "11              host_total_listings_count  0.059731  0.003109\n",
       "12                        availability_90  0.046443  0.003383\n",
       "13                        availability_60  0.031357  0.002076\n",
       "14              neighbourhood_Wilmersdorf  0.029227  0.000620\n",
       "15               host_neighbourhood_is_na  0.025849  0.007909\n",
       "16                 room_type_Private room  0.023623  0.004519\n",
       "17                         city_is_berlin  0.021389  0.001330\n",
       "18                              longitude  0.018073  0.002089\n",
       "19                     host_response_rate  0.013082  0.001373\n",
       "20                    host_sinceMonth_5.0  0.008497  0.000119\n",
       "21                        guests_included  0.007029  0.000736\n",
       "22               host_response_time_other  0.002043  0.002918\n",
       "23      host_response_time_within an hour -0.000361  0.000180"
      ]
     },
     "execution_count": 31,
     "metadata": {},
     "output_type": "execute_result"
    }
   ],
   "source": [
    "eli5.explain_weights_df(third_pmi, feature_names = second_select_cols.to_list())"
   ]
  },
  {
   "cell_type": "markdown",
   "metadata": {},
   "source": [
    "So from here, we can begin to identify the most important features."
   ]
  },
  {
   "cell_type": "code",
   "execution_count": null,
   "metadata": {},
   "outputs": [],
   "source": [
    "selected_X_train = pd.DataFrame(X_train_third_select, columns=third_select_cols)\n",
    "selected_X_train.loc[:, 'price'] = y_train\n",
    "\n",
    "selected_X_val = pd.DataFrame(X_val_third_select, columns=third_select_cols)\n",
    "selected_X_val.loc[:, 'price'] = y_val"
   ]
  },
  {
   "cell_type": "code",
   "execution_count": 125,
   "metadata": {},
   "outputs": [],
   "source": [
    "selected_X_train.to_feather('./selected_train.feather')"
   ]
  },
  {
   "cell_type": "code",
   "execution_count": 126,
   "metadata": {},
   "outputs": [],
   "source": [
    "selected_X_val.to_feather('./selected_val.feather')"
   ]
  }
 ],
 "metadata": {
  "kernelspec": {
   "display_name": "Python 3",
   "language": "python",
   "name": "python3"
  },
  "language_info": {
   "codemirror_mode": {
    "name": "ipython",
    "version": 3
   },
   "file_extension": ".py",
   "mimetype": "text/x-python",
   "name": "python",
   "nbconvert_exporter": "python",
   "pygments_lexer": "ipython3",
   "version": "3.7.3"
  }
 },
 "nbformat": 4,
 "nbformat_minor": 2
}
